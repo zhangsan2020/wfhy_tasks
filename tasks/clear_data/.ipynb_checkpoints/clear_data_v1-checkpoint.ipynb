{
 "cells": [
  {
   "cell_type": "code",
   "execution_count": 1,
   "id": "c061a428",
   "metadata": {},
   "outputs": [],
   "source": [
    "import pymongo\n",
    "import pandas as pd"
   ]
  },
  {
   "cell_type": "code",
   "execution_count": 2,
   "id": "05750243",
   "metadata": {},
   "outputs": [],
   "source": [
    "def get_sqldata(db,col):\n",
    "    mongo_cli = pymongo.MongoClient('127.0.0.1',27017)\n",
    "    col = mongo_cli[db][col]\n",
    "    df = pd.DataFrame(list(col.find({'url_id':{'$gt':177307}})))\n",
    "    return df"
   ]
  },
  {
   "cell_type": "code",
   "execution_count": 3,
   "id": "441d0c87",
   "metadata": {},
   "outputs": [
    {
     "data": {
      "text/html": [
       "<div>\n",
       "<style scoped>\n",
       "    .dataframe tbody tr th:only-of-type {\n",
       "        vertical-align: middle;\n",
       "    }\n",
       "\n",
       "    .dataframe tbody tr th {\n",
       "        vertical-align: top;\n",
       "    }\n",
       "\n",
       "    .dataframe thead th {\n",
       "        text-align: right;\n",
       "    }\n",
       "</style>\n",
       "<table border=\"1\" class=\"dataframe\">\n",
       "  <thead>\n",
       "    <tr style=\"text-align: right;\">\n",
       "      <th></th>\n",
       "    </tr>\n",
       "  </thead>\n",
       "  <tbody>\n",
       "  </tbody>\n",
       "</table>\n",
       "</div>"
      ],
      "text/plain": [
       "Empty DataFrame\n",
       "Columns: []\n",
       "Index: []"
      ]
     },
     "execution_count": 3,
     "metadata": {},
     "output_type": "execute_result"
    }
   ],
   "source": [
    "df = get_sqldata('wfhy_update','chictr_copy1')\n",
    "df"
   ]
  },
  {
   "cell_type": "markdown",
   "id": "d572c303",
   "metadata": {},
   "source": [
    "### 根据手机号去重"
   ]
  },
  {
   "cell_type": "markdown",
   "id": "daa08c75",
   "metadata": {},
   "source": [
    "## 分割手机号,得出11位数字的手机号码, 方便清洗, 否则部分 +86 xx 和  86 xx难以去重 "
   ]
  },
  {
   "cell_type": "code",
   "execution_count": 4,
   "id": "d5a12212",
   "metadata": {},
   "outputs": [],
   "source": [
    "df['phone'] = df.phone.map(lambda x: x.split(' ')[1] if len(x.split(' ')) > 1 else x)"
   ]
  },
  {
   "cell_type": "code",
   "execution_count": 5,
   "id": "0284d413",
   "metadata": {},
   "outputs": [
    {
     "data": {
      "text/html": [
       "<div>\n",
       "<style scoped>\n",
       "    .dataframe tbody tr th:only-of-type {\n",
       "        vertical-align: middle;\n",
       "    }\n",
       "\n",
       "    .dataframe tbody tr th {\n",
       "        vertical-align: top;\n",
       "    }\n",
       "\n",
       "    .dataframe thead th {\n",
       "        text-align: right;\n",
       "    }\n",
       "</style>\n",
       "<table border=\"1\" class=\"dataframe\">\n",
       "  <thead>\n",
       "    <tr style=\"text-align: right;\">\n",
       "      <th></th>\n",
       "      <th>_id</th>\n",
       "      <th>name</th>\n",
       "      <th>phone</th>\n",
       "      <th>email</th>\n",
       "      <th>detail_url</th>\n",
       "      <th>url_id</th>\n",
       "      <th>datetime</th>\n",
       "    </tr>\n",
       "  </thead>\n",
       "  <tbody>\n",
       "    <tr>\n",
       "      <th>0</th>\n",
       "      <td>6307639efa3a0a834f767965</td>\n",
       "      <td>杜柏</td>\n",
       "      <td>13439689904</td>\n",
       "      <td>dubaidubai@sina.com</td>\n",
       "      <td>http://www.chictr.org.cn/showproj.aspx?proj=17...</td>\n",
       "      <td>177812</td>\n",
       "      <td>NaN</td>\n",
       "    </tr>\n",
       "    <tr>\n",
       "      <th>1</th>\n",
       "      <td>630763a0fa3a0a834f767966</td>\n",
       "      <td>熊红</td>\n",
       "      <td>18846838320</td>\n",
       "      <td>3054575019@qq.com</td>\n",
       "      <td>http://www.chictr.org.cn/showproj.aspx?proj=14...</td>\n",
       "      <td>148170</td>\n",
       "      <td>NaN</td>\n",
       "    </tr>\n",
       "    <tr>\n",
       "      <th>2</th>\n",
       "      <td>630763a0fa3a0a834f767967</td>\n",
       "      <td>李文志</td>\n",
       "      <td>18045159998</td>\n",
       "      <td>wenzhili9@126.com</td>\n",
       "      <td>http://www.chictr.org.cn/showproj.aspx?proj=14...</td>\n",
       "      <td>148170</td>\n",
       "      <td>NaN</td>\n",
       "    </tr>\n",
       "    <tr>\n",
       "      <th>3</th>\n",
       "      <td>630763a1fa3a0a834f767968</td>\n",
       "      <td>管文瑜</td>\n",
       "      <td>18953117225</td>\n",
       "      <td>850285685@qq.com</td>\n",
       "      <td>http://www.chictr.org.cn/showproj.aspx?proj=17...</td>\n",
       "      <td>174874</td>\n",
       "      <td>NaN</td>\n",
       "    </tr>\n",
       "    <tr>\n",
       "      <th>4</th>\n",
       "      <td>630763a3fa3a0a834f767969</td>\n",
       "      <td>陈璇</td>\n",
       "      <td>13751771283</td>\n",
       "      <td>406625227@qq.com</td>\n",
       "      <td>http://www.chictr.org.cn/showproj.aspx?proj=17...</td>\n",
       "      <td>177666</td>\n",
       "      <td>NaN</td>\n",
       "    </tr>\n",
       "  </tbody>\n",
       "</table>\n",
       "</div>"
      ],
      "text/plain": [
       "                        _id name        phone                email  \\\n",
       "0  6307639efa3a0a834f767965   杜柏  13439689904  dubaidubai@sina.com   \n",
       "1  630763a0fa3a0a834f767966   熊红  18846838320    3054575019@qq.com   \n",
       "2  630763a0fa3a0a834f767967  李文志  18045159998    wenzhili9@126.com   \n",
       "3  630763a1fa3a0a834f767968  管文瑜  18953117225     850285685@qq.com   \n",
       "4  630763a3fa3a0a834f767969   陈璇  13751771283     406625227@qq.com   \n",
       "\n",
       "                                          detail_url  url_id datetime  \n",
       "0  http://www.chictr.org.cn/showproj.aspx?proj=17...  177812      NaN  \n",
       "1  http://www.chictr.org.cn/showproj.aspx?proj=14...  148170      NaN  \n",
       "2  http://www.chictr.org.cn/showproj.aspx?proj=14...  148170      NaN  \n",
       "3  http://www.chictr.org.cn/showproj.aspx?proj=17...  174874      NaN  \n",
       "4  http://www.chictr.org.cn/showproj.aspx?proj=17...  177666      NaN  "
      ]
     },
     "execution_count": 5,
     "metadata": {},
     "output_type": "execute_result"
    }
   ],
   "source": [
    "df.head()"
   ]
  },
  {
   "cell_type": "markdown",
   "id": "76e373ac",
   "metadata": {},
   "source": [
    "## 判断真实手机号:  手机字符串包含为 (以 1 开始,其后有10位数字)"
   ]
  },
  {
   "cell_type": "code",
   "execution_count": 6,
   "id": "ce969146",
   "metadata": {},
   "outputs": [
    {
     "name": "stderr",
     "output_type": "stream",
     "text": [
      "c:\\users\\10290\\appdata\\local\\programs\\python\\python36\\lib\\site-packages\\pandas\\core\\strings.py:1843: UserWarning: This pattern has match groups. To actually get the groups, use str.extract.\n",
      "  return func(self, *args, **kwargs)\n"
     ]
    }
   ],
   "source": [
    "new_df = df[df.phone.str.contains('1(\\d+){10}')]"
   ]
  },
  {
   "cell_type": "code",
   "execution_count": 7,
   "id": "2ff98d06",
   "metadata": {},
   "outputs": [
    {
     "data": {
      "text/html": [
       "<div>\n",
       "<style scoped>\n",
       "    .dataframe tbody tr th:only-of-type {\n",
       "        vertical-align: middle;\n",
       "    }\n",
       "\n",
       "    .dataframe tbody tr th {\n",
       "        vertical-align: top;\n",
       "    }\n",
       "\n",
       "    .dataframe thead th {\n",
       "        text-align: right;\n",
       "    }\n",
       "</style>\n",
       "<table border=\"1\" class=\"dataframe\">\n",
       "  <thead>\n",
       "    <tr style=\"text-align: right;\">\n",
       "      <th></th>\n",
       "      <th>_id</th>\n",
       "      <th>name</th>\n",
       "      <th>phone</th>\n",
       "      <th>email</th>\n",
       "      <th>detail_url</th>\n",
       "      <th>url_id</th>\n",
       "      <th>datetime</th>\n",
       "    </tr>\n",
       "  </thead>\n",
       "  <tbody>\n",
       "    <tr>\n",
       "      <th>0</th>\n",
       "      <td>6307639efa3a0a834f767965</td>\n",
       "      <td>杜柏</td>\n",
       "      <td>13439689904</td>\n",
       "      <td>dubaidubai@sina.com</td>\n",
       "      <td>http://www.chictr.org.cn/showproj.aspx?proj=17...</td>\n",
       "      <td>177812</td>\n",
       "      <td>NaN</td>\n",
       "    </tr>\n",
       "    <tr>\n",
       "      <th>1</th>\n",
       "      <td>630763a0fa3a0a834f767966</td>\n",
       "      <td>熊红</td>\n",
       "      <td>18846838320</td>\n",
       "      <td>3054575019@qq.com</td>\n",
       "      <td>http://www.chictr.org.cn/showproj.aspx?proj=14...</td>\n",
       "      <td>148170</td>\n",
       "      <td>NaN</td>\n",
       "    </tr>\n",
       "    <tr>\n",
       "      <th>2</th>\n",
       "      <td>630763a0fa3a0a834f767967</td>\n",
       "      <td>李文志</td>\n",
       "      <td>18045159998</td>\n",
       "      <td>wenzhili9@126.com</td>\n",
       "      <td>http://www.chictr.org.cn/showproj.aspx?proj=14...</td>\n",
       "      <td>148170</td>\n",
       "      <td>NaN</td>\n",
       "    </tr>\n",
       "    <tr>\n",
       "      <th>3</th>\n",
       "      <td>630763a1fa3a0a834f767968</td>\n",
       "      <td>管文瑜</td>\n",
       "      <td>18953117225</td>\n",
       "      <td>850285685@qq.com</td>\n",
       "      <td>http://www.chictr.org.cn/showproj.aspx?proj=17...</td>\n",
       "      <td>174874</td>\n",
       "      <td>NaN</td>\n",
       "    </tr>\n",
       "    <tr>\n",
       "      <th>4</th>\n",
       "      <td>630763a3fa3a0a834f767969</td>\n",
       "      <td>陈璇</td>\n",
       "      <td>13751771283</td>\n",
       "      <td>406625227@qq.com</td>\n",
       "      <td>http://www.chictr.org.cn/showproj.aspx?proj=17...</td>\n",
       "      <td>177666</td>\n",
       "      <td>NaN</td>\n",
       "    </tr>\n",
       "  </tbody>\n",
       "</table>\n",
       "</div>"
      ],
      "text/plain": [
       "                        _id name        phone                email  \\\n",
       "0  6307639efa3a0a834f767965   杜柏  13439689904  dubaidubai@sina.com   \n",
       "1  630763a0fa3a0a834f767966   熊红  18846838320    3054575019@qq.com   \n",
       "2  630763a0fa3a0a834f767967  李文志  18045159998    wenzhili9@126.com   \n",
       "3  630763a1fa3a0a834f767968  管文瑜  18953117225     850285685@qq.com   \n",
       "4  630763a3fa3a0a834f767969   陈璇  13751771283     406625227@qq.com   \n",
       "\n",
       "                                          detail_url  url_id datetime  \n",
       "0  http://www.chictr.org.cn/showproj.aspx?proj=17...  177812      NaN  \n",
       "1  http://www.chictr.org.cn/showproj.aspx?proj=14...  148170      NaN  \n",
       "2  http://www.chictr.org.cn/showproj.aspx?proj=14...  148170      NaN  \n",
       "3  http://www.chictr.org.cn/showproj.aspx?proj=17...  174874      NaN  \n",
       "4  http://www.chictr.org.cn/showproj.aspx?proj=17...  177666      NaN  "
      ]
     },
     "execution_count": 7,
     "metadata": {},
     "output_type": "execute_result"
    }
   ],
   "source": [
    "new_df.head()"
   ]
  },
  {
   "cell_type": "code",
   "execution_count": 8,
   "id": "e4ed7a30",
   "metadata": {},
   "outputs": [
    {
     "name": "stdout",
     "output_type": "stream",
     "text": [
      "<class 'pandas.core.frame.DataFrame'>\n",
      "Int64Index: 87378 entries, 0 to 92672\n",
      "Data columns (total 7 columns):\n",
      "_id           87378 non-null object\n",
      "name          87378 non-null object\n",
      "phone         87378 non-null object\n",
      "email         87378 non-null object\n",
      "detail_url    87378 non-null object\n",
      "url_id        87378 non-null int64\n",
      "datetime      1 non-null object\n",
      "dtypes: int64(1), object(6)\n",
      "memory usage: 5.3+ MB\n"
     ]
    }
   ],
   "source": [
    "new_df.info()"
   ]
  },
  {
   "cell_type": "markdown",
   "id": "b762dde3",
   "metadata": {},
   "source": [
    "## 根据手机号去重,保留重复号码的第一个手机号"
   ]
  },
  {
   "cell_type": "code",
   "execution_count": 9,
   "id": "8a983e54",
   "metadata": {},
   "outputs": [
    {
     "name": "stderr",
     "output_type": "stream",
     "text": [
      "c:\\users\\10290\\appdata\\local\\programs\\python\\python36\\lib\\site-packages\\ipykernel_launcher.py:1: SettingWithCopyWarning: \n",
      "A value is trying to be set on a copy of a slice from a DataFrame\n",
      "\n",
      "See the caveats in the documentation: http://pandas.pydata.org/pandas-docs/stable/user_guide/indexing.html#returning-a-view-versus-a-copy\n",
      "  \"\"\"Entry point for launching an IPython kernel.\n"
     ]
    }
   ],
   "source": [
    "new_df.drop_duplicates(subset='phone',inplace=True)"
   ]
  },
  {
   "cell_type": "code",
   "execution_count": 10,
   "id": "d4152d7d",
   "metadata": {},
   "outputs": [
    {
     "data": {
      "text/html": [
       "<div>\n",
       "<style scoped>\n",
       "    .dataframe tbody tr th:only-of-type {\n",
       "        vertical-align: middle;\n",
       "    }\n",
       "\n",
       "    .dataframe tbody tr th {\n",
       "        vertical-align: top;\n",
       "    }\n",
       "\n",
       "    .dataframe thead th {\n",
       "        text-align: right;\n",
       "    }\n",
       "</style>\n",
       "<table border=\"1\" class=\"dataframe\">\n",
       "  <thead>\n",
       "    <tr style=\"text-align: right;\">\n",
       "      <th></th>\n",
       "      <th>_id</th>\n",
       "      <th>name</th>\n",
       "      <th>phone</th>\n",
       "      <th>email</th>\n",
       "      <th>detail_url</th>\n",
       "      <th>url_id</th>\n",
       "      <th>datetime</th>\n",
       "    </tr>\n",
       "  </thead>\n",
       "  <tbody>\n",
       "    <tr>\n",
       "      <th>0</th>\n",
       "      <td>6307639efa3a0a834f767965</td>\n",
       "      <td>杜柏</td>\n",
       "      <td>13439689904</td>\n",
       "      <td>dubaidubai@sina.com</td>\n",
       "      <td>http://www.chictr.org.cn/showproj.aspx?proj=17...</td>\n",
       "      <td>177812</td>\n",
       "      <td>NaN</td>\n",
       "    </tr>\n",
       "    <tr>\n",
       "      <th>1</th>\n",
       "      <td>630763a0fa3a0a834f767966</td>\n",
       "      <td>熊红</td>\n",
       "      <td>18846838320</td>\n",
       "      <td>3054575019@qq.com</td>\n",
       "      <td>http://www.chictr.org.cn/showproj.aspx?proj=14...</td>\n",
       "      <td>148170</td>\n",
       "      <td>NaN</td>\n",
       "    </tr>\n",
       "    <tr>\n",
       "      <th>2</th>\n",
       "      <td>630763a0fa3a0a834f767967</td>\n",
       "      <td>李文志</td>\n",
       "      <td>18045159998</td>\n",
       "      <td>wenzhili9@126.com</td>\n",
       "      <td>http://www.chictr.org.cn/showproj.aspx?proj=14...</td>\n",
       "      <td>148170</td>\n",
       "      <td>NaN</td>\n",
       "    </tr>\n",
       "    <tr>\n",
       "      <th>3</th>\n",
       "      <td>630763a1fa3a0a834f767968</td>\n",
       "      <td>管文瑜</td>\n",
       "      <td>18953117225</td>\n",
       "      <td>850285685@qq.com</td>\n",
       "      <td>http://www.chictr.org.cn/showproj.aspx?proj=17...</td>\n",
       "      <td>174874</td>\n",
       "      <td>NaN</td>\n",
       "    </tr>\n",
       "    <tr>\n",
       "      <th>4</th>\n",
       "      <td>630763a3fa3a0a834f767969</td>\n",
       "      <td>陈璇</td>\n",
       "      <td>13751771283</td>\n",
       "      <td>406625227@qq.com</td>\n",
       "      <td>http://www.chictr.org.cn/showproj.aspx?proj=17...</td>\n",
       "      <td>177666</td>\n",
       "      <td>NaN</td>\n",
       "    </tr>\n",
       "    <tr>\n",
       "      <th>...</th>\n",
       "      <td>...</td>\n",
       "      <td>...</td>\n",
       "      <td>...</td>\n",
       "      <td>...</td>\n",
       "      <td>...</td>\n",
       "      <td>...</td>\n",
       "      <td>...</td>\n",
       "    </tr>\n",
       "    <tr>\n",
       "      <th>92665</th>\n",
       "      <td>63164f2305b2acf8e9693a73</td>\n",
       "      <td>仇艳</td>\n",
       "      <td>13011187815</td>\n",
       "      <td>576275980@qq.com</td>\n",
       "      <td>http://www.chictr.org.cn/showproj.aspx?proj=4339</td>\n",
       "      <td>4339</td>\n",
       "      <td>NaN</td>\n",
       "    </tr>\n",
       "    <tr>\n",
       "      <th>92666</th>\n",
       "      <td>63164f2505b2acf8e9693a74</td>\n",
       "      <td>李艳成</td>\n",
       "      <td>13761826267</td>\n",
       "      <td>lyc_neuron@163.com</td>\n",
       "      <td>http://www.chictr.org.cn/showproj.aspx?proj=4336</td>\n",
       "      <td>4336</td>\n",
       "      <td>NaN</td>\n",
       "    </tr>\n",
       "    <tr>\n",
       "      <th>92667</th>\n",
       "      <td>63164f2505b2acf8e9693a75</td>\n",
       "      <td>聂志余</td>\n",
       "      <td>13501918926</td>\n",
       "      <td>nzhiyu2002@sina.com</td>\n",
       "      <td>http://www.chictr.org.cn/showproj.aspx?proj=4336</td>\n",
       "      <td>4336</td>\n",
       "      <td>NaN</td>\n",
       "    </tr>\n",
       "    <tr>\n",
       "      <th>92670</th>\n",
       "      <td>63164f2705b2acf8e9693a78</td>\n",
       "      <td>李国才</td>\n",
       "      <td>13143378727</td>\n",
       "      <td>guocailee@126.com</td>\n",
       "      <td>http://www.chictr.org.cn/showproj.aspx?proj=4334</td>\n",
       "      <td>4334</td>\n",
       "      <td>NaN</td>\n",
       "    </tr>\n",
       "    <tr>\n",
       "      <th>92671</th>\n",
       "      <td>63164f2805b2acf8e9693a79</td>\n",
       "      <td>袁正勇</td>\n",
       "      <td>13688354162</td>\n",
       "      <td>yuan_mcchina@hotmail.com</td>\n",
       "      <td>http://www.chictr.org.cn/showproj.aspx?proj=4333</td>\n",
       "      <td>4333</td>\n",
       "      <td>NaN</td>\n",
       "    </tr>\n",
       "  </tbody>\n",
       "</table>\n",
       "<p>67241 rows × 7 columns</p>\n",
       "</div>"
      ],
      "text/plain": [
       "                            _id name        phone                     email  \\\n",
       "0      6307639efa3a0a834f767965   杜柏  13439689904       dubaidubai@sina.com   \n",
       "1      630763a0fa3a0a834f767966   熊红  18846838320         3054575019@qq.com   \n",
       "2      630763a0fa3a0a834f767967  李文志  18045159998         wenzhili9@126.com   \n",
       "3      630763a1fa3a0a834f767968  管文瑜  18953117225          850285685@qq.com   \n",
       "4      630763a3fa3a0a834f767969   陈璇  13751771283          406625227@qq.com   \n",
       "...                         ...  ...          ...                       ...   \n",
       "92665  63164f2305b2acf8e9693a73   仇艳  13011187815          576275980@qq.com   \n",
       "92666  63164f2505b2acf8e9693a74  李艳成  13761826267        lyc_neuron@163.com   \n",
       "92667  63164f2505b2acf8e9693a75  聂志余  13501918926       nzhiyu2002@sina.com   \n",
       "92670  63164f2705b2acf8e9693a78  李国才  13143378727         guocailee@126.com   \n",
       "92671  63164f2805b2acf8e9693a79  袁正勇  13688354162  yuan_mcchina@hotmail.com   \n",
       "\n",
       "                                              detail_url  url_id datetime  \n",
       "0      http://www.chictr.org.cn/showproj.aspx?proj=17...  177812      NaN  \n",
       "1      http://www.chictr.org.cn/showproj.aspx?proj=14...  148170      NaN  \n",
       "2      http://www.chictr.org.cn/showproj.aspx?proj=14...  148170      NaN  \n",
       "3      http://www.chictr.org.cn/showproj.aspx?proj=17...  174874      NaN  \n",
       "4      http://www.chictr.org.cn/showproj.aspx?proj=17...  177666      NaN  \n",
       "...                                                  ...     ...      ...  \n",
       "92665   http://www.chictr.org.cn/showproj.aspx?proj=4339    4339      NaN  \n",
       "92666   http://www.chictr.org.cn/showproj.aspx?proj=4336    4336      NaN  \n",
       "92667   http://www.chictr.org.cn/showproj.aspx?proj=4336    4336      NaN  \n",
       "92670   http://www.chictr.org.cn/showproj.aspx?proj=4334    4334      NaN  \n",
       "92671   http://www.chictr.org.cn/showproj.aspx?proj=4333    4333      NaN  \n",
       "\n",
       "[67241 rows x 7 columns]"
      ]
     },
     "execution_count": 10,
     "metadata": {},
     "output_type": "execute_result"
    }
   ],
   "source": [
    "new_df"
   ]
  },
  {
   "cell_type": "markdown",
   "id": "f4ee3280",
   "metadata": {},
   "source": [
    "## 简单查阅是否还有重复"
   ]
  },
  {
   "cell_type": "code",
   "execution_count": 11,
   "id": "8c685b19",
   "metadata": {},
   "outputs": [
    {
     "data": {
      "text/html": [
       "<div>\n",
       "<style scoped>\n",
       "    .dataframe tbody tr th:only-of-type {\n",
       "        vertical-align: middle;\n",
       "    }\n",
       "\n",
       "    .dataframe tbody tr th {\n",
       "        vertical-align: top;\n",
       "    }\n",
       "\n",
       "    .dataframe thead th {\n",
       "        text-align: right;\n",
       "    }\n",
       "</style>\n",
       "<table border=\"1\" class=\"dataframe\">\n",
       "  <thead>\n",
       "    <tr style=\"text-align: right;\">\n",
       "      <th></th>\n",
       "      <th>_id</th>\n",
       "      <th>name</th>\n",
       "      <th>phone</th>\n",
       "      <th>email</th>\n",
       "      <th>detail_url</th>\n",
       "      <th>url_id</th>\n",
       "      <th>datetime</th>\n",
       "    </tr>\n",
       "  </thead>\n",
       "  <tbody>\n",
       "  </tbody>\n",
       "</table>\n",
       "</div>"
      ],
      "text/plain": [
       "Empty DataFrame\n",
       "Columns: [_id, name, phone, email, detail_url, url_id, datetime]\n",
       "Index: []"
      ]
     },
     "execution_count": 11,
     "metadata": {},
     "output_type": "execute_result"
    }
   ],
   "source": [
    "new_df[new_df['email']==\"2632494613@qq.com\"]"
   ]
  },
  {
   "cell_type": "code",
   "execution_count": 12,
   "id": "a993b9d2",
   "metadata": {},
   "outputs": [
    {
     "data": {
      "text/html": [
       "<div>\n",
       "<style scoped>\n",
       "    .dataframe tbody tr th:only-of-type {\n",
       "        vertical-align: middle;\n",
       "    }\n",
       "\n",
       "    .dataframe tbody tr th {\n",
       "        vertical-align: top;\n",
       "    }\n",
       "\n",
       "    .dataframe thead th {\n",
       "        text-align: right;\n",
       "    }\n",
       "</style>\n",
       "<table border=\"1\" class=\"dataframe\">\n",
       "  <thead>\n",
       "    <tr style=\"text-align: right;\">\n",
       "      <th></th>\n",
       "      <th>_id</th>\n",
       "      <th>name</th>\n",
       "      <th>phone</th>\n",
       "      <th>email</th>\n",
       "      <th>detail_url</th>\n",
       "      <th>url_id</th>\n",
       "      <th>datetime</th>\n",
       "    </tr>\n",
       "  </thead>\n",
       "  <tbody>\n",
       "    <tr>\n",
       "      <th>16146</th>\n",
       "      <td>630876e8ee600c5291b526da</td>\n",
       "      <td>宋春莉</td>\n",
       "      <td>13596052383</td>\n",
       "      <td>songchunl@jlu.edu.com</td>\n",
       "      <td>http://www.chictr.org.cn/showproj.aspx?proj=14...</td>\n",
       "      <td>142818</td>\n",
       "      <td>NaN</td>\n",
       "    </tr>\n",
       "  </tbody>\n",
       "</table>\n",
       "</div>"
      ],
      "text/plain": [
       "                            _id name        phone                  email  \\\n",
       "16146  630876e8ee600c5291b526da  宋春莉  13596052383  songchunl@jlu.edu.com   \n",
       "\n",
       "                                              detail_url  url_id datetime  \n",
       "16146  http://www.chictr.org.cn/showproj.aspx?proj=14...  142818      NaN  "
      ]
     },
     "execution_count": 12,
     "metadata": {},
     "output_type": "execute_result"
    }
   ],
   "source": [
    "new_df[new_df.phone == '13596052383']"
   ]
  },
  {
   "cell_type": "markdown",
   "id": "f8c59e99",
   "metadata": {},
   "source": [
    "## 保存到excel中"
   ]
  },
  {
   "cell_type": "markdown",
   "id": "ed39db24",
   "metadata": {},
   "source": [
    "## 摘取部分数据进行存储"
   ]
  },
  {
   "cell_type": "code",
   "execution_count": 13,
   "id": "d7239b79",
   "metadata": {},
   "outputs": [],
   "source": [
    "new_df_1 = new_df[new_df.url_id < 105795]"
   ]
  },
  {
   "cell_type": "code",
   "execution_count": 14,
   "id": "1664ef5b",
   "metadata": {},
   "outputs": [],
   "source": [
    "writer = pd.ExcelWriter(r'chictr_all_clear_1.xlsx', engine='xlsxwriter', options={'strings_to_urls': False})\n",
    "new_df_1.to_excel(writer,encoding='utf-8',index=False)\n",
    "writer.save()"
   ]
  },
  {
   "cell_type": "code",
   "execution_count": null,
   "id": "83d0010d",
   "metadata": {},
   "outputs": [],
   "source": []
  }
 ],
 "metadata": {
  "kernelspec": {
   "display_name": "Python 3 (ipykernel)",
   "language": "python",
   "name": "python3"
  },
  "language_info": {
   "codemirror_mode": {
    "name": "ipython",
    "version": 3
   },
   "file_extension": ".py",
   "mimetype": "text/x-python",
   "name": "python",
   "nbconvert_exporter": "python",
   "pygments_lexer": "ipython3",
   "version": "3.8.3"
  }
 },
 "nbformat": 4,
 "nbformat_minor": 5
}
